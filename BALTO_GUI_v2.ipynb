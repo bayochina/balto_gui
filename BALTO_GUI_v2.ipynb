{
 "cells": [
  {
   "cell_type": "markdown",
   "metadata": {},
   "source": [
    "# BALTO Graphical User Interface (prototype)"
   ]
  },
  {
   "cell_type": "markdown",
   "metadata": {},
   "source": [
    "This Jupyter notebook creates a GUI (graphical user interface) for the BALTO (Brokered Alignment of Long-Tail Observations) project.  BALTO is funded by the NSF EarthCube program.  The GUI aims to provide a simplified and customizable method for users to access data sets of interest on servers that support the OpenDAP data access protocol.  This interactive GUI runs within the Jupyter notebook and uses the Python packages: <b>ipywidgets</b> (for widget controls), <b>ipyleaflet</b> (for interactive maps) and <b>pydap</b> (an OpenDAP client).\n",
    "\n",
    "The Python source code to create the GUI and to process events is in a Python module called <b>balto_gui.py</b> that must be copied into the same directory as this Jupyter notebook.\n",
    "\n",
    "This is an <b>accordion-style</b> GUI, which allows you to switch between GUI panels without scrolling in the notebook.\n",
    "\n",
    "You can run this notebook in a browser window without installing anything on your computer, using something called <b>Binder</b>.  On GitHub, you will see a Binder icon and a link labeled \"Launch Binder\".\n",
    "\n",
    "To run this Jupyter notebook without Binder, it is recommended to install Python 3.7 from an Anaconda distribution and to then create a <b>conda environment</b> called <b>balto</b>.  Instructions for how to create a conda environment are given in Appendix 1."
   ]
  },
  {
   "cell_type": "markdown",
   "metadata": {},
   "source": [
    "#### Table of Contents"
   ]
  },
  {
   "cell_type": "markdown",
   "metadata": {},
   "source": [
    "1.  <a href=\"#start_gui\">Import and Start the BALTO GUI</a> <br>\n",
    "2.  <a href=\"#get_data\">Download and Explore Some Data</a> <br>\n",
    "3.  <a href=\"#plot_data\">Plot Some Data</a> <br>\n",
    "4.  <a href=\"#var_match\">Matching Variable Names to Standardized Names</a> <br>\n",
    "5.  <a href=\"#low_level\">Low-level Access to GUI Settings</a> <br>\n",
    "6.  <a href=\"#references\">References for More Info</a> <br>\n",
    "7.  <a href=\"#setup\">Appendix 1: Set up a conda environment called \"balto\"</a> <br>"
   ]
  },
  {
   "cell_type": "markdown",
   "metadata": {},
   "source": [
    "## Import and Start the BALTO GUI  <a id=\"start_gui\"></a>"
   ]
  },
  {
   "cell_type": "code",
   "execution_count": 1,
   "metadata": {},
   "outputs": [
    {
     "data": {
      "application/vnd.jupyter.widget-view+json": {
       "model_id": "002c3ff013984a3d93d7dd0d848fc534",
       "version_major": 2,
       "version_minor": 0
      },
      "text/plain": [
       "VBox(children=(HTML(value='<b><font size=5>BALTO User Interface</font></b>'), Accordion(children=(VBox(childre…"
      ]
     },
     "metadata": {},
     "output_type": "display_data"
    },
    {
     "data": {
      "application/vnd.jupyter.widget-view+json": {
       "model_id": "8aa0cf70d1dd4a57b37c15ef7d994dd9",
       "version_major": 2,
       "version_minor": 0
      },
      "text/plain": [
       "Output()"
      ]
     },
     "metadata": {},
     "output_type": "display_data"
    },
    {
     "name": "stdout",
     "output_type": "stream",
     "text": [
      "New time indices = 0 1856\n",
      "\n",
      "nlats    = 89\n",
      "v_minlat = -88.0\n",
      "v_maxlat = 88.0\n",
      "v_dlat   = 1.9887640449438202\n",
      "lat_i1   = 52\n",
      "lat_i2   = 54\n",
      "New latitude indices = 52 54\n",
      "\n",
      "nlons    = 180\n",
      "v_minlon = -180.0\n",
      "v_maxlon = 178.0\n",
      "v_dlon   = 1.9944444444444445\n",
      "lon_i1   = 55\n",
      "lon_i2   = 58\n",
      "New longitude indices = 55 58\n",
      "Downloading variable: sst ...\n",
      "Variable saved in: balto.user_var\n"
     ]
    }
   ],
   "source": [
    "import balto_gui as bg\n",
    "balto = bg.balto_gui()\n",
    "balto.show_gui()"
   ]
  },
  {
   "cell_type": "markdown",
   "metadata": {},
   "source": [
    "## Download and Explore Some Data  <a id=\"get_data\"></a>"
   ]
  },
  {
   "cell_type": "markdown",
   "metadata": {},
   "source": [
    "First open the <b>Browse Data</b> panel.\n",
    "If you changed the \"OpenDAP URL Dir\", click the Reset button at the bottom of the Data panel to restore the defaults.  The OpenDAP URL Dir should again be: http://test.opendap.org/dap/data/nc/.\n",
    "\n",
    "Click on the Go button. <br>\n",
    "From the <b>Filename droplist</b>, choose <b>sst.mnmean.nc.gz</b>. <br>\n",
    "From the <b>Variable</b> droplist, choose <b>sst</b>.\n",
    "\n",
    "Notice that the shape of this dataset is <b>(1857, 89, 180)</b>,\n",
    "with dimensions: <b>('time', 'lat', 'lon')</b>.\n",
    "\n",
    "Next, open the <b>Spatial Extent</b> panel and use the interactive map to choose a geographic bounding box for some region you are interested in.  Try choosing different basemaps from the Basemap droplist above the map.  You can also click on the Full Screen icon in the upper right corner to expand the map to the full screen of your computer.\n",
    "\n",
    "You can also type new bounding lats and lons into the text boxes and click the <b>Update</b> button.  The map will then zoom to show a bounding box that contains your bounding box.  Note, however, that the aspect ratio of the GUI's map window may not match the shape of your bounding box.  \n",
    "\n",
    "Now let's zoom into the Carribean island of Puerto Rico.  In the text boxes, enter <b>-68.2</b> for the West edge, <b>-64.7</b> for the East edge, <b>18.9</b> for the North edge and <b>17.6</b> for the South edge, then click the <b>Update</b> button.  This should zoom in to a view in which the whole island is visible in the window, with water visible all around.  \n",
    "\n",
    "Let's now check how the monthly mean sea surface temperature has changed over the years spanned by the SST dataset we downloaded.  To see the date and time range spanned by this dataset, open the <b>Date Range</b> panel.  If you want, you can change the dates and times to restrict the data to a shorter time period.\n",
    "\n",
    "Next, open the <b>Download Data</b> panel and click on the <b>Download</b> button.  This causes the SST dataset --- restricted to this spatial extent and date range --- to be downloaded to your computer and stored in the <b>balto</b> object as <b>user_var</b>.  This may take a minute or so, before you can execute the next cell.\n",
    "\n",
    "You can now begin to work with the data in this notebook.\n"
   ]
  },
  {
   "cell_type": "code",
   "execution_count": 2,
   "metadata": {},
   "outputs": [
    {
     "name": "stdout",
     "output_type": "stream",
     "text": [
      "type(sst) = <class 'numpy.ndarray'>\n",
      "sst.dtype = >i2\n",
      "sst.shape = (1856, 2, 3)\n",
      "[[[27.0799994  27.4299994  27.80999939]\n",
      "  [26.25999942 26.76999941 27.3499994 ]]\n",
      "\n",
      " [[27.52999939 27.82999939 28.13999938]\n",
      "  [26.91999941 27.4099994  27.89999939]]\n",
      "\n",
      " [[27.84999939 28.13999938 28.41999937]\n",
      "  [27.3099994  27.75999939 28.20999938]]\n",
      "\n",
      " [[27.81999939 28.10999938 28.38999938]\n",
      "  [27.2399994  27.67999939 28.07999938]]\n",
      "\n",
      " [[27.1499994  27.3799994  27.57999939]\n",
      "  [26.46999942 26.81999941 27.1299994 ]]\n",
      "\n",
      " [[26.21999942 26.36999942 26.47999942]\n",
      "  [25.39999944 25.63999944 25.81999943]]\n",
      "\n",
      " [[25.36999944 25.42999944 25.46999944]\n",
      "  [24.49999946 24.59999946 24.67999946]]\n",
      "\n",
      " [[24.78999945 24.85999945 24.95999945]\n",
      "  [23.87999947 23.96999947 24.09999947]]\n",
      "\n",
      " [[24.67999946 24.83999945 25.07999945]\n",
      "  [23.70999948 23.84999948 24.13999947]]\n",
      "\n",
      " [[24.82999945 25.17999945 25.63999944]\n",
      "  [23.62999948 23.94999947 24.47999946]]]\n"
     ]
    }
   ],
   "source": [
    "sst = balto.user_var\n",
    "print('type(sst) =', type(sst) )\n",
    "print('sst.dtype =', sst.dtype )\n",
    "print('sst.shape =', sst.shape )\n",
    "scale_factor = 0.00999999978\n",
    "print(sst[0:10,:,:] * scale_factor)\n"
   ]
  },
  {
   "cell_type": "markdown",
   "metadata": {},
   "source": [
    "## Plot Some Data  <a id=\"plot_data\"></a>"
   ]
  },
  {
   "cell_type": "code",
   "execution_count": null,
   "metadata": {},
   "outputs": [],
   "source": [
    "# grid = sst[10,:,:]\n",
    "# balto.show_grid( grid, cmap='rainbow', xsize=8, ysize=8)"
   ]
  },
  {
   "cell_type": "markdown",
   "metadata": {},
   "source": [
    "## Matching Variable Names to Standardized Names  <a id=\"var_match\"></a>"
   ]
  },
  {
   "cell_type": "code",
   "execution_count": null,
   "metadata": {},
   "outputs": [],
   "source": [
    "# This uses an SVO service at:  http://34.73.227.230:8000/match_phrase/\n",
    "balto.get_possible_svo_names('sst', SHOW_IRI=False)\n"
   ]
  },
  {
   "cell_type": "markdown",
   "metadata": {},
   "source": [
    "## Low-Level Access to the GUI Settings   <a id=\"low_level\"></a>"
   ]
  },
  {
   "cell_type": "code",
   "execution_count": 5,
   "metadata": {},
   "outputs": [
    {
     "name": "stdout",
     "output_type": "stream",
     "text": [
      "['lat', 'lon', 'time', 'time_bnds', 'sst']\n",
      "[19723.0, 76214.0]\n",
      "days since 1800-1-1 00:00:00\n"
     ]
    }
   ],
   "source": [
    "print(balto.var_short_names)\n",
    "time = balto.dataset.time\n",
    "print(time.actual_range)\n",
    "print(time.units)"
   ]
  },
  {
   "cell_type": "code",
   "execution_count": 6,
   "metadata": {},
   "outputs": [
    {
     "name": "stdout",
     "output_type": "stream",
     "text": [
      "-180.0\n"
     ]
    }
   ],
   "source": [
    "print(balto.map_minlon_box.value)"
   ]
  },
  {
   "cell_type": "markdown",
   "metadata": {},
   "source": [
    "## References for More Info  <a id=\"references\"></a>"
   ]
  },
  {
   "cell_type": "markdown",
   "metadata": {},
   "source": [
    "A Good Anaconda Reference\n",
    "\n",
    "A Good BALTO Reference <br>\n",
    "https://www.earthcube.org/group/brokered-alignment-long-tail-observations-balto <br>\n",
    "https://www.nsf.gov/awardsearch/showAward?AWD_ID=1740704\n",
    "\n",
    "A Good Binder Reference <br>\n",
    "https://github.com/binder-examples\n",
    "\n",
    "A Jupyter Notebook Reference\n",
    "\n",
    "A Good OpenDAP Reference <br>\n",
    "https://www.opendap.org/ <br>\n",
    "https://opendap.github.io/documentation/QuickStart.html <br>\n",
    "https://www.opendap.org/support/user-documentation\n",
    "\n",
    "<b>NetCDF CF Conventions</b> <br>\n",
    "http://cfconventions.org/cf-conventions/cf-conventions.html\n",
    "\n",
    "<b>appmode</b> Jupyter plugin (not used) <br>\n",
    "https://github.com/oschuett/appmode <br>\n",
    "https://github.com/binder-examples/appmode\n",
    "\n",
    "<b>traitlets</b> (used by ipywidgets) <br>\n",
    "https://traitlets.readthedocs.io/en/stable/\n",
    "\n",
    "The <b>ipywidgets</b> Python package <br>\n",
    "https://ipywidgets.readthedocs.io/en/latest/index.html <br>\n",
    "https://ipywidgets.readthedocs.io/en/latest/user_guide.html\n",
    "\n",
    "The <b>ipyleaflet</b> Python package <br> \n",
    "https://ipyleaflet.readthedocs.io/en/latest/\n",
    "\n",
    "The <b>pydap</b> Python package <br>\n",
    "https://www.pydap.org/en/latest/ <br>\n",
    "https://github.com/pydap/pydap\n",
    "\n",
    "<b>Jupyter Lab</b> <br>\n",
    "https://jupyterlab.readthedocs.io/en/stable/getting_started/installation.html <br>\n",
    "https://jupyterlab.readthedocs.io/en/stable/user/extensions.html <br>\n",
    "https://ipywidgets.readthedocs.io/en/latest/user_install.html#installing-the-jupyterlab-extension<br>\n",
    "\n",
    "<b>Scientific Variables Ontology</b> (SVO) <br>\n",
    "http://www.geoscienceontology.org/ <br>\n",
    "Cite Stoica and Peckham papers.\n"
   ]
  },
  {
   "cell_type": "markdown",
   "metadata": {},
   "source": [
    "## Appendix 1:  Set up a conda environment called \"balto\"    <a id=\"setup\"></a>"
   ]
  },
  {
   "cell_type": "markdown",
   "metadata": {},
   "source": [
    "To run this Jupyter notebook, it is recommended to use Python 3.7 from an Anaconda distribution and to create a \"balto\" conda environment with the following commands.  This helps to prevent conflicts with other Python packages you may have installed.  After installing Anaconda, use these commands to create the environment. "
   ]
  },
  {
   "cell_type": "markdown",
   "metadata": {},
   "source": [
    "``` bash\n",
    "% conda update -n base -c defaults conda\n",
    "% conda create --name balto\n",
    "% conda activate balto\n",
    "% conda install -c conda-forge ipywidgets\n",
    "% conda install -c conda-forge ipyleaflet\n",
    "% conda install -c conda-forge pydap\n",
    "```"
   ]
  },
  {
   "cell_type": "markdown",
   "metadata": {},
   "source": [
    "If you want to use this notebook in Jupyter Lab (vs. Jupyter Notebook), you need to install a few more Python packages and extensions, as follows."
   ]
  },
  {
   "cell_type": "markdown",
   "metadata": {},
   "source": [
    "``` bash\n",
    "% conda install -c conda-forge jupyterlab\n",
    "% conda install -c conda-forge nb_conda_kernels  # (needed for conda envs)\n",
    "\n",
    "% conda install -c conda-forge nodejs\n",
    "% conda install -c conda-forge widgetsnbextension\n",
    "% jupyter labextension install jupyter-leaflet\n",
    "% jupyter labextension install @jupyter-widgets/jupyterlab-manager\n",
    "```"
   ]
  },
  {
   "cell_type": "markdown",
   "metadata": {},
   "source": [
    "When you want to run the notebook, type \"conda activate balto\" to activate this environment.  Then change to the directory that contains BALTO_GUI.ipynb and type \"jupyter notebook\" or \"jupyter lab\".\n",
    "\n",
    "Finally, choose this notebook by name, \"BALTO_GUI.ipynb\", and make sure to choose the kernel called:  Python [conda env:balto].  See the References section at the end for more info."
   ]
  },
  {
   "cell_type": "code",
   "execution_count": null,
   "metadata": {},
   "outputs": [],
   "source": []
  }
 ],
 "metadata": {
  "kernelspec": {
   "display_name": "Python [conda env:balto] *",
   "language": "python",
   "name": "conda-env-balto-py"
  },
  "language_info": {
   "codemirror_mode": {
    "name": "ipython",
    "version": 3
   },
   "file_extension": ".py",
   "mimetype": "text/x-python",
   "name": "python",
   "nbconvert_exporter": "python",
   "pygments_lexer": "ipython3",
   "version": "3.7.3"
  }
 },
 "nbformat": 4,
 "nbformat_minor": 2
}
