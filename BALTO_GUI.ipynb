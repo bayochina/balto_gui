{
 "cells": [
  {
   "cell_type": "markdown",
   "metadata": {},
   "source": [
    "# BALTO Graphical User Interface (prototype)"
   ]
  },
  {
   "cell_type": "markdown",
   "metadata": {},
   "source": [
    "This Jupyter notebook creates a GUI (graphical user interface) for BALTO (Brokered Alignment of Long-Tail Observations) project.  BALTO is funded by the NSF EarthCube program.  The GUI intends to provide an simplified and customizable method for users to access data sets of interest on servers that support the OpenDAP data access protocol.  The interactive GUI runs within the Jupyter notebook and uses the Python packages: <b>ipywidgets</b> and <b>ipyleaflet</b>."
   ]
  },
  {
   "cell_type": "markdown",
   "metadata": {},
   "source": [
    "## Set up a conda environment called \"balto\""
   ]
  },
  {
   "cell_type": "markdown",
   "metadata": {},
   "source": [
    "To run this Jupyter notebook, it is recommended to use Python 3.7 from an Anaconda distribution and to create a \"balto\" conda environment with the following commands.  \n",
    "\n",
    "conda update -n base -c defaults conda <br>\n",
    "conda create --name balto  <br>\n",
    "conda activate balto  <br>\n",
    "conda install -c conda-forge ipywidgets <br>\n",
    "conda install -c conda-forge ipyleaflet <br>\n",
    "conda install -c conda-forge pydap <br>\n",
    "\n",
    "conda install -c conda-forge jupyterlab <br>\n",
    "conda install -c conda-forge nb_conda_kernels  # (needed for conda envs) <br>\n",
    "\n",
    "conda install -c conda-forge nodejs <br>\n",
    "conda install -c conda-forge widgetsnbextension <br>\n",
    "jupyter labextension install jupyter-leaflet <br>\n",
    "jupyter labextension install @jupyter-widgets/jupyterlab-manager <br>\n",
    "\n",
    "Change to directory with BALTO_GUI.ipynb. <br>\n",
    "jupyter lab <br>\n",
    "\n",
    "Finally, choose BALTO_GUI.ipynb in Jupyter Lab,\n",
    "but make sure to choose the kernel:  Python [conda evn:balto] <br>\n",
    "\n",
    "References <br>\n",
    "https://jupyterlab.readthedocs.io/en/stable/getting_started/installation.html <br>\n",
    "https://ipywidgets.readthedocs.io/en/latest/user_install.html#installing-the-jupyterlab-extension <br>"
   ]
  },
  {
   "cell_type": "markdown",
   "metadata": {},
   "source": [
    "## Import required packages"
   ]
  },
  {
   "cell_type": "code",
   "execution_count": 1,
   "metadata": {},
   "outputs": [],
   "source": [
    "from ipyleaflet import Map\n",
    "import ipywidgets as widgets\n",
    "from ipywidgets import Layout\n",
    "from IPython.display import display, HTML\n",
    "## from IPython.core.display import display\n",
    "## from IPython.lib.display import display\n",
    "import pydap"
   ]
  },
  {
   "cell_type": "markdown",
   "metadata": {},
   "source": [
    "## Create the GUI components"
   ]
  },
  {
   "cell_type": "markdown",
   "metadata": {},
   "source": [
    "This GUI is built up from <b>ipywidgets</b> (for the controls) and <b>ipyleaflet</b> (for the interactive map).\n",
    "\n",
    "For more information on ipywidgets, see:  https://ipywidgets.readthedocs.io/en/latest/user_guide.html\n",
    "\n",
    "For more information on ipyleaflet, see:\n",
    "https://ipyleaflet.readthedocs.io/en/latest/\n"
   ]
  },
  {
   "cell_type": "code",
   "execution_count": 2,
   "metadata": {},
   "outputs": [],
   "source": [
    "p0 = widgets.HTML(value=f\"<p></p> <p></p>\")   # padding\n",
    "h0 = widgets.HTML(value=f\"<b><font size=5>BALTO User Interface</font></b>\")\n",
    "# p0 = widgets.HTML(value=\"<p></p> <p></p>\")   # padding\n",
    "# h0 = widgets.HTML(value=\"<b><font size=5>BALTO User Interface</font></b>\")\n",
    "#---------------------------------------------\n",
    "# h0 = widgets.Label('BALTO User Interface')\n",
    "\n",
    "# Create an interactive map with ipyleaflets\n",
    "map_width     = '600px'\n",
    "map_height    = '250px'\n",
    "url_box_width = '560px'\n",
    "m = Map(center=(0.0, 0.0), zoom=1, \n",
    "        layout=Layout(width=map_width, height=map_height))\n",
    "\n",
    "style0  = {'description_width': 'initial'}\n",
    "style1  = {'description_width': '130px'}\n",
    "style2  = {'description_width': '80px'}\n",
    "style3  = {'description_width': '50px'}\n",
    "# bbox_style = {'description_width': '130px'}\n",
    "bbox_style = {'description_width': '100px'}\n",
    "date_style = {'description_width': '70px'}\n",
    "\n",
    "#####################################################\n",
    "# Does \"step=001\" restrict accuracy of selection ??\n",
    "#####################################################\n",
    "bbox_width = '270px'\n",
    "w1 = widgets.BoundedFloatText(\n",
    "    value=-180, min=-180, max=180.0, step=0.01,\n",
    "    # description='West longitude:',\n",
    "    description='West edge lon:',\n",
    "    disabled=False, style=bbox_style,\n",
    "    layout=Layout(width=bbox_width) )\n",
    "    \n",
    "w2 = widgets.BoundedFloatText(\n",
    "    value=180, min=-180, max=180.0, step=0.01,\n",
    "    # description='East longitude:',\n",
    "    description='East edge lon:',\n",
    "    disabled=False, style=bbox_style,\n",
    "    layout=Layout(width=bbox_width) )\n",
    "    \n",
    "w3 = widgets.BoundedFloatText(\n",
    "    value=90, min=-90, max=90.0, step=0.01,\n",
    "    # description='North latitude:',\n",
    "    description='North edge lat:',\n",
    "    disabled=False, style=bbox_style,\n",
    "    layout=Layout(width=bbox_width) )\n",
    "    \n",
    "w4 = widgets.BoundedFloatText(\n",
    "    value=-90, min=-90, max=90.0, step=0.01,\n",
    "    # description='South latitude:',\n",
    "    description='South edge lat:',\n",
    "    disabled=False, style=bbox_style,\n",
    "    layout=Layout(width=bbox_width) )\n",
    "    \n",
    "# Date Range  (& Temporal Resolution ??)\n",
    "date_width = '270px'\n",
    "d1 = widgets.DatePicker( description='Start Date:',\n",
    "            disabled=False, style=date_style,\n",
    "            layout=Layout(width=date_width) )\n",
    "d2 = widgets.DatePicker( description='End Date:',\n",
    "            disabled=False, style=date_style,\n",
    "            layout=Layout(width=date_width) )\n",
    "d3 = widgets.Text( description='Start Time:',\n",
    "            disabled=False, style=date_style,\n",
    "            layout=Layout(width=date_width) )\n",
    "d4 = widgets.Text( description='End Time:',\n",
    "            disabled=False, style=date_style,\n",
    "            layout=Layout(width=date_width) )\n",
    "\n",
    "# Variable Options\n",
    "n0 = widgets.HTML(value=f\"<p></p>\")   # padding\n",
    "n1 = widgets.Text(description='Variable name:',\n",
    "                  value='sea surface temperature',\n",
    "                  disabled=False, style=style0,\n",
    "                  layout=Layout(width='550px') )             \n",
    "\n",
    "#------------------------------\n",
    "# Example GES DISC opendap URL\n",
    "#------------------------------\n",
    "# https://gpm1.gesdisc.eosdis.nasa.gov/opendap/GPM_L3/GPM_3IMERGHHE.05/2014/\n",
    "# 091/3B-HHR-E.MS.MRG.3IMERG.20140401-S000000-E002959.0000.V05B.HDF5.nc\n",
    "# ?HQprecipitation[1999:2200][919:1049],lon[1999:2200],lat[919:1049]\n",
    "\n",
    "# OpenDAP Options\n",
    "o1 = widgets.Text(description='OpenDAP URL:',\n",
    "                  value='https://gpm1.gesdisc.eosdis.nasa.gov/opendap/',\n",
    "                  disabled=False, style=style1,\n",
    "                  layout=Layout(width=url_box_width))\n",
    "o2 = widgets.Dropdown( description='OpenDAP package:',\n",
    "                       options=['pydap', 'netcdf4'],\n",
    "                       value='pydap',\n",
    "                       disabled=False, style=style1)\n",
    "\n",
    "# Output File Format\n",
    "f1 = widgets.Dropdown( description='Output Format:',\n",
    "                       options=['HDF', 'netCDF', 'netCDF4'],\n",
    "                       value='netCDF',\n",
    "                       disabled=False, style=style0)\n",
    "\n",
    "## layout=Layout(width=map_width, height=map_height))\n",
    "\n",
    "# Buttons at the bottom\n",
    "b1 = widgets.Button(description=\"Download\")\n",
    "\n",
    "# Can use this for output\n",
    "status = widgets.Text(description=' Status:', style=style3,\n",
    "                      layout=Layout(width='380px') )\n",
    "\n",
    "log = widgets.Textarea( description='', value='',\n",
    "              disabled=False, style=style0,\n",
    "              layout=Layout(width='560px', height='160px'))"
   ]
  },
  {
   "cell_type": "markdown",
   "metadata": {},
   "source": [
    "## Define some GUI utility functions"
   ]
  },
  {
   "cell_type": "code",
   "execution_count": 3,
   "metadata": {},
   "outputs": [],
   "source": [
    "def get_bounds():\n",
    "    return [m.west, m.south, m.east, m.north]\n",
    "\n",
    "#==================================================================\n",
    "def get_start_date():\n",
    "    \n",
    "    if (d1.value is not None):\n",
    "        return str(d1.value)    # Need the str().\n",
    "    else:\n",
    "        return 'None'\n",
    "\n",
    "#==================================================================\n",
    "def get_end_date():\n",
    "\n",
    "    if (d2.value is not None):\n",
    "        return str(d2.value)   # Need the str().\n",
    "    else:\n",
    "        return 'None'\n",
    "\n",
    "#==================================================================\n",
    "def get_variable_name():\n",
    "    return n1.value\n",
    "\n",
    "#==================================================================\n",
    "def get_opendap_package():\n",
    "    return o2.value\n",
    "\n",
    "#==================================================================\n",
    "def get_output_format():\n",
    "    return f1.value\n",
    "\n",
    "#==================================================================\n",
    "def list_to_string( array ):\n",
    "\n",
    "    s = ''\n",
    "    for item in array:\n",
    "        s = s + item + '\\n'\n",
    "    return s\n",
    "\n",
    "#==================================================================   \n",
    "def print_choices():\n",
    "\n",
    "    date1, date2 = get_date_range()\n",
    "    msg = [\n",
    "    'bounds = ' + str(get_bounds()),\n",
    "    'opendap package = ' + get_opendap_package(),\n",
    "    'start date = ' + get_start_date(),\n",
    "    'end date = ' + get_end_date(),\n",
    "    'variable = ' + get_variable_name() ]\n",
    "    log.value = list_to_string( msg )\n",
    "\n",
    "#==================================================================\n"
   ]
  },
  {
   "cell_type": "markdown",
   "metadata": {},
   "source": [
    "## Define some GUI event handling functions"
   ]
  },
  {
   "cell_type": "code",
   "execution_count": 4,
   "metadata": {},
   "outputs": [],
   "source": [
    "def download_data( b ):\n",
    "    status.value = 'Download button clicked.'\n",
    "    print_choices()\n",
    "    \n",
    "#==================================================================\n",
    "def show_bounds( **kwargs ):\n",
    "    event = kwargs.get('type')\n",
    "    # events: mouseup, mousedown, mousemove, mouseover, mouseout,\n",
    "    #         click, dblclick, preclick\n",
    "    if (event == 'mouseup') or (event == 'mousemove') or (event == 'dblclick'):\n",
    "        w1.value = m.west\n",
    "        w2.value = m.east\n",
    "        w3.value = m.north\n",
    "        w4.value = m.south\n",
    "        \n",
    "    # status.value = event\n",
    "    \n",
    "    # with output2:\n",
    "    #   print( event )\n",
    "#==================================================================\n",
    "\n"
   ]
  },
  {
   "cell_type": "markdown",
   "metadata": {},
   "source": [
    "## Set up the GUI event handlers"
   ]
  },
  {
   "cell_type": "code",
   "execution_count": 5,
   "metadata": {},
   "outputs": [],
   "source": [
    "b1.on_click( download_data )\n",
    "m.on_interaction( show_bounds )"
   ]
  },
  {
   "cell_type": "markdown",
   "metadata": {},
   "source": [
    "## Create the GUI from the GUI components"
   ]
  },
  {
   "cell_type": "code",
   "execution_count": 6,
   "metadata": {},
   "outputs": [],
   "source": [
    "#===========================\n",
    "# Set up the UI layout: V1\n",
    "#===========================\n",
    "# v1 = widgets.VBox([w1, w2, w3, w4])\n",
    "# v2 = widgets.VBox([d1, d2, n0, n1 ])\n",
    "# h1 = widgets.HBox([v1, v2])\n",
    "# h2 = widgets.VBox([o1, o2]) \n",
    "# h3 = widgets.HBox([b1, status])\n",
    "# ui = widgets.VBox([p0, h0, m, h1, h2, h3, p0, log])\n",
    "\n",
    "#======================================\n",
    "# Set up the UI layout: V2: Accordion\n",
    "#======================================\n",
    "v1a = widgets.VBox([w1, w2])\n",
    "v1b = widgets.VBox([w3, w4])\n",
    "v1  = widgets.HBox( [v1a, v1b])\n",
    "# v2  = widgets.VBox([d1, d2])\n",
    "v2a  = widgets.VBox([d1, d2])\n",
    "v2b  = widgets.VBox([d3, d4])\n",
    "h2  = widgets.HBox([v2a, v2b])\n",
    "v3  = widgets.VBox([n1])\n",
    "v4  = widgets.VBox([o1,o2])\n",
    "v5  = widgets.VBox([f1])\n",
    "h3  = widgets.HBox([b1, status])  ####\n",
    "v6  = widgets.VBox([h3, log])\n",
    "# selected_index=None causes all cells to be collapsed\n",
    "acc = widgets.Accordion( children=[v1, h2, v3, v4, v5, v6],\n",
    "                         selected_index=None,\n",
    "                         layout=Layout(width=map_width) )\n",
    "acc.set_title(0,'Spatial Extent')\n",
    "acc.set_title(1,'Date Range')\n",
    "acc.set_title(2,'Variable')\n",
    "acc.set_title(3,'OpenDAP Server')\n",
    "acc.set_title(4,'Output Format')\n",
    "acc.set_title(5,'Download')\n",
    "\n",
    "ui = widgets.VBox([p0,h0,m,acc])"
   ]
  },
  {
   "cell_type": "markdown",
   "metadata": {},
   "source": [
    "## Display the GUI"
   ]
  },
  {
   "cell_type": "code",
   "execution_count": 7,
   "metadata": {},
   "outputs": [
    {
     "data": {
      "application/vnd.jupyter.widget-view+json": {
       "model_id": "f975c288ac3649f393c481fdf1061d12",
       "version_major": 2,
       "version_minor": 0
      },
      "text/plain": [
       "VBox(children=(HTML(value='<p></p> <p></p>'), HTML(value='<b><font size=5>BALTO User Interface</font></b>'), M…"
      ]
     },
     "metadata": {},
     "output_type": "display_data"
    },
    {
     "data": {
      "application/vnd.jupyter.widget-view+json": {
       "model_id": "0aa5b19eebb04d9c9be0b46bb6d07668",
       "version_major": 2,
       "version_minor": 0
      },
      "text/plain": [
       "Output()"
      ]
     },
     "metadata": {},
     "output_type": "display_data"
    }
   ],
   "source": [
    "gui_output = widgets.Output()\n",
    "display(ui, gui_output)"
   ]
  },
  {
   "cell_type": "markdown",
   "metadata": {},
   "source": [
    "## Some information for testing"
   ]
  },
  {
   "cell_type": "code",
   "execution_count": 8,
   "metadata": {},
   "outputs": [],
   "source": [
    "# Geographic bounding box for state of Colorado\n",
    "# Colorado_xmin = -109.060253\n",
    "# Colorado_xmax = -102.041524\n",
    "# Colorado_ymin = 36.992426\n",
    "# Colorado_ymax = 41.003444"
   ]
  }
 ],
 "metadata": {
  "kernelspec": {
   "display_name": "Python [conda env:balto]",
   "language": "python",
   "name": "conda-env-balto-py"
  },
  "language_info": {
   "codemirror_mode": {
    "name": "ipython",
    "version": 3
   },
   "file_extension": ".py",
   "mimetype": "text/x-python",
   "name": "python",
   "nbconvert_exporter": "python",
   "pygments_lexer": "ipython3",
   "version": "3.7.3"
  }
 },
 "nbformat": 4,
 "nbformat_minor": 4
}
